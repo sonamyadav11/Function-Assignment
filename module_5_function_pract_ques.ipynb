{
  "nbformat": 4,
  "nbformat_minor": 0,
  "metadata": {
    "colab": {
      "provenance": [],
      "authorship_tag": "ABX9TyNIy32a4qBAV9RjTbQVCDRQ",
      "include_colab_link": true
    },
    "kernelspec": {
      "name": "python3",
      "display_name": "Python 3"
    },
    "language_info": {
      "name": "python"
    }
  },
  "cells": [
    {
      "cell_type": "markdown",
      "metadata": {
        "id": "view-in-github",
        "colab_type": "text"
      },
      "source": [
        "<a href=\"https://colab.research.google.com/github/sonamyadav11/Function-Assignment/blob/main/module_5_function_pract_ques.ipynb\" target=\"_parent\"><img src=\"https://colab.research.google.com/assets/colab-badge.svg\" alt=\"Open In Colab\"/></a>"
      ]
    },
    {
      "cell_type": "code",
      "execution_count": null,
      "metadata": {
        "colab": {
          "base_uri": "https://localhost:8080/"
        },
        "id": "Exn9D6yu9gHF",
        "outputId": "5b9bdfcb-ffea-48eb-be14-49f9b3337496"
      },
      "outputs": [
        {
          "output_type": "stream",
          "name": "stdout",
          "text": [
            "enter a list of numbers1 2 3 4 5\n",
            "6\n"
          ]
        }
      ],
      "source": [
        "#1 Write a Python function that takes a list of numbers as input and returns the sum of all even numbers in the list.\n",
        "\n",
        "def even_sum(list1):\n",
        "  sum=0\n",
        "  for i in list1:\n",
        "    if(i%2==0):\n",
        "      sum=sum+i\n",
        "  return sum\n",
        "list1=input((\"enter a list of numbers\"))\n",
        "list1=[int(x) for x in list1.split()]\n",
        "print(even_sum(list1))\n"
      ]
    },
    {
      "cell_type": "code",
      "source": [],
      "metadata": {
        "id": "DvxFIi7b04Hx"
      },
      "execution_count": null,
      "outputs": []
    },
    {
      "cell_type": "code",
      "source": [
        "# 2 . Create a Python function that accepts a string and returns the reverse of that string\n",
        "def reverse(string):\n",
        "  return string[::-1]\n",
        "\n",
        "string=input(\"enter a string\")\n",
        "print(reverse(string))"
      ],
      "metadata": {
        "colab": {
          "base_uri": "https://localhost:8080/"
        },
        "id": "jrNmIZUg_8vg",
        "outputId": "1f771a1a-1190-4af9-d017-7bd72b77de45"
      },
      "execution_count": null,
      "outputs": [
        {
          "output_type": "stream",
          "name": "stdout",
          "text": [
            "enter a stringsonam\n",
            "manos\n"
          ]
        }
      ]
    },
    {
      "cell_type": "code",
      "source": [
        "#3 Implement a Python function that takes a list of integers and returns a new list containing the squares of each number\n",
        "def square(list1):\n",
        "  list2=[]\n",
        "  for i in list1:\n",
        "    list2.append(i**2)\n",
        "  return list2\n",
        "\n",
        "list1=input(\"enter a list1\")\n",
        "list1=[int(x)for x in list1.split()]\n",
        "print(square(list1))\n"
      ],
      "metadata": {
        "colab": {
          "base_uri": "https://localhost:8080/"
        },
        "id": "-8q_3G_FAp-5",
        "outputId": "cfe206f1-9fbd-4e1d-c133-c9ff37139996"
      },
      "execution_count": null,
      "outputs": [
        {
          "output_type": "stream",
          "name": "stdout",
          "text": [
            "enter a list11 2 3 4 5\n",
            "[1, 4, 9, 16, 25]\n"
          ]
        }
      ]
    },
    {
      "cell_type": "code",
      "source": [
        "#4 Write a Python function that checks if a given number is prime or not from 1 to 200\n",
        "def prime_num(number):\n",
        "  if(number==1):\n",
        "    return True\n",
        "  else:\n",
        "    for i in range(2,number):\n",
        "      if(number%i==0):\n",
        "        return False\n",
        "        break;\n",
        "      else:\n",
        "        return True\n",
        "number=int(input(\"enter a number\"))\n",
        "print(prime_num(number))"
      ],
      "metadata": {
        "colab": {
          "base_uri": "https://localhost:8080/"
        },
        "id": "WPSFZPNSB_Di",
        "outputId": "f808f048-1a41-43c6-d4da-35655cd7ab71"
      },
      "execution_count": null,
      "outputs": [
        {
          "output_type": "stream",
          "name": "stdout",
          "text": [
            "enter a number5\n",
            "True\n"
          ]
        }
      ]
    },
    {
      "cell_type": "code",
      "source": [
        "#5 Create an iterator class in Python that generates the Fibonacci sequence up to a specified number of terms.\n",
        "class fibo_iterator:\n",
        "  def __init__(self,limit):\n",
        "    self.limit=limit\n",
        "    self.a=0\n",
        "    self.b=1\n",
        "  def __iter__(self):\n",
        "    return self\n",
        "\n",
        "  def __next__(self):\n",
        "    if(self.limit<=0):\n",
        "      raise StopIteration\n",
        "    self.limit -= 1\n",
        "    current = self.a\n",
        "    self.a, self.b = self.b, self.a + self.b\n",
        "    return current\n",
        "\n",
        "fib=fibo_iterator(6)\n",
        "for i in fib:\n",
        "  print(i)\n",
        "\n"
      ],
      "metadata": {
        "colab": {
          "base_uri": "https://localhost:8080/"
        },
        "id": "daE5RdBDDVqD",
        "outputId": "0bcca8bc-dcad-4dcb-a112-c1aedaaaa1a6"
      },
      "execution_count": null,
      "outputs": [
        {
          "output_type": "stream",
          "name": "stdout",
          "text": [
            "0\n",
            "1\n",
            "1\n",
            "2\n",
            "3\n",
            "5\n"
          ]
        }
      ]
    },
    {
      "cell_type": "code",
      "source": [
        "# 6 Write a generator function in Python that yields the powers of 2 up to a given exponent.\n",
        "def power_of_two(expon):\n",
        "  ans=2**expon\n",
        "  yield ans\n",
        "\n",
        "expon=int(input(\"enter power of two u want\"))\n",
        "for i in power_of_two(expon):\n",
        "  print(i)\n"
      ],
      "metadata": {
        "colab": {
          "base_uri": "https://localhost:8080/"
        },
        "id": "1TpttMhb06Nb",
        "outputId": "ea20de09-1eac-49f5-b810-8abbeae0b733"
      },
      "execution_count": null,
      "outputs": [
        {
          "output_type": "stream",
          "name": "stdout",
          "text": [
            "enter power of two u want4\n",
            "16\n"
          ]
        }
      ]
    },
    {
      "cell_type": "code",
      "source": [
        "# 7  Implement a generator function that reads a file line by line and yields each line as a string\n",
        "\n",
        "def read_file_line_by_line(file_path):\n",
        "    with open(file_path, 'r') as file:\n",
        "        for line in file:\n",
        "            yield line.strip()  # Strip to remove any trailing newlines or spaces\n",
        "\n",
        "# Example usage\n",
        "file_path = 'hello everyone.txt'  # Replace with the actual file path\n",
        "\n",
        "# Calling the generator function and iterating through the lines\n",
        "for line in read_file_line_by_line(\"/content/hello everyone.txt\"):\n",
        "    print(line)\n"
      ],
      "metadata": {
        "id": "8ISJbx9j85dB",
        "colab": {
          "base_uri": "https://localhost:8080/"
        },
        "outputId": "96526237-ff1d-4029-d30d-4a76fef004ef"
      },
      "execution_count": null,
      "outputs": [
        {
          "output_type": "stream",
          "name": "stdout",
          "text": [
            "hello everyone\n",
            "this is test file\n",
            "and each line will be processed\n"
          ]
        }
      ]
    },
    {
      "cell_type": "code",
      "source": [
        "# 8 Use a lambda function in Python to sort a list of tuples based on the second element of each tuple.\n",
        "\n",
        "data = [(1, 3), (4, 1), (2, 2), (5, 0)]\n",
        "\n",
        "sorted_data = sorted(data, key=lambda x: x[1])\n",
        "\n",
        "print(\"Sorted list of tuples:\", sorted_data)\n"
      ],
      "metadata": {
        "colab": {
          "base_uri": "https://localhost:8080/"
        },
        "id": "fZbafnB7_mvu",
        "outputId": "1861defc-8618-49ff-b634-630f57bd4dd3"
      },
      "execution_count": null,
      "outputs": [
        {
          "output_type": "stream",
          "name": "stdout",
          "text": [
            "Sorted list of tuples: [(5, 0), (4, 1), (2, 2), (1, 3)]\n"
          ]
        }
      ]
    },
    {
      "cell_type": "code",
      "source": [
        "# 9 Write a Python program that uses `map()` to convert a list of temperatures from Celsius to Fahrenheit.\n",
        "\n",
        "def c_to_f(celsius):\n",
        "  f=(celsius*9/5)+32\n",
        "  return f\n",
        "\n",
        "celsius=input(\"enter celsius to convert\")\n",
        "celsius=[int(x)for x in celsius.split()]\n",
        "ans= list(map(c_to_f,celsius))\n",
        "print(ans)\n",
        "\n"
      ],
      "metadata": {
        "colab": {
          "base_uri": "https://localhost:8080/"
        },
        "id": "9dMUThf6GeZB",
        "outputId": "325863d8-df55-462a-a6d6-03ef7f7d3131"
      },
      "execution_count": null,
      "outputs": [
        {
          "output_type": "stream",
          "name": "stdout",
          "text": [
            "enter celsius to convert12 30 40\n",
            "[53.6, 86.0, 104.0]\n"
          ]
        }
      ]
    },
    {
      "cell_type": "code",
      "source": [
        "# 10 Create a Python program that uses `filter()` to remove all the vowels from a given string\n",
        "\n",
        "def without_vowels(string):\n",
        "  vowels=[\"a\",\"e\",\"i\",\"o\",\"u\",\"A\",\"E\",\"I\",\"O\",\"U\"]\n",
        "  return string not in vowels\n",
        "\n",
        "string=input(\"enter a string\")\n",
        "ans= \"\".join(filter(without_vowels,string))\n",
        "\n",
        "print(ans)\n"
      ],
      "metadata": {
        "id": "NOO7uxp_KLr7",
        "colab": {
          "base_uri": "https://localhost:8080/"
        },
        "outputId": "483e6a49-6667-4ec1-f1d3-d052e5a9ac27"
      },
      "execution_count": null,
      "outputs": [
        {
          "output_type": "stream",
          "name": "stdout",
          "text": [
            "enter a stringsonam\n",
            "snm\n"
          ]
        }
      ]
    },
    {
      "cell_type": "code",
      "source": [
        "# 11 Imagine an accounting routine used in a book shop. It works on a list with sublists, which look like this:\n",
        " #Write a Python program, which returns a list with 2-tuples. Each tuple consists of the order number and the\n",
        "#product of the price per item and the quantity. The product should be increased by 10,- € if the value of the\n",
        "#order is smaller than 100,00 €.\n",
        " #Write a Python program using lambda and map\n",
        "\n",
        "# List of orders where each order has: [Order Number, Book Title and Author, Quantity, Price per Item]\n",
        "orders = [\n",
        "    [34587, 'Learning Python, Mark Lutz', 4, 40.95],\n",
        "    [98762, 'Programming Python, Mark Lutz', 5, 56.80],\n",
        "    [77226, 'Head First Python, Paul Barry', 3, 32.95],\n",
        "    [88112, 'Einführung in Python3, Bernd Klein', 3, 24.99]\n",
        "]\n",
        "\n",
        "# Function to apply the pricing logic\n",
        "result = list(map(lambda order: (order[0], (order[2] * order[3] + 10)) if order[2] * order[3] < 100 else (order[0], order[2] * order[3]), orders))\n",
        "\n",
        "# Display the result\n",
        "print(result)\n",
        "\n"
      ],
      "metadata": {
        "colab": {
          "base_uri": "https://localhost:8080/"
        },
        "id": "NwD5pDtFJf1j",
        "outputId": "da2cf5f8-84ac-4a5f-d1f9-1f9beac21f75"
      },
      "execution_count": null,
      "outputs": [
        {
          "output_type": "stream",
          "name": "stdout",
          "text": [
            "[(34587, 163.8), (98762, 284.0), (77226, 108.85000000000001), (88112, 84.97)]\n"
          ]
        }
      ]
    }
  ]
}